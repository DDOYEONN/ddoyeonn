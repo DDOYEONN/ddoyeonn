{
  "nbformat": 4,
  "nbformat_minor": 0,
  "metadata": {
    "colab": {
      "provenance": []
    },
    "kernelspec": {
      "name": "python3",
      "display_name": "Python 3"
    },
    "language_info": {
      "name": "python"
    }
  },
  "cells": [
    {
      "cell_type": "code",
      "execution_count": 8,
      "metadata": {
        "id": "OTdTHQ6zPN4m"
      },
      "outputs": [],
      "source": [
        "import spacy\n",
        "from spacy.tokenizer import Tokenizer\n",
        "\n",
        "nlp = spacy.load(\"en_core_web_sm\")\n",
        "\n",
        "tokenizer = Tokenizer(nlp.vocab)\n",
        "\n",
        "sent1 = \"I am a student.\"\n",
        "sent2 = \"J is the alphabet that follows i.\"\n",
        "sent3 = \"Is she a student trying to become a data scientist?\"\n",
        "\n",
        "sent_lst = [sent1, sent2, sent3]"
      ]
    },
    {
      "cell_type": "code",
      "source": [
        "#토큰화 프로세스는 토크나이저의 tokenize() 메서드에 의해 수행\n",
        "#함수 내 함수 연속적용\n",
        "\n",
        "total_tokens = []\n",
        "\n",
        "for i, sent in enumerate(tokenizer.pipe(sent_lst)):\n",
        "    sent_token = [token.text for token in sent]\n",
        "    total_tokens.extend(sent_token)#하나한 원소를 다 넣는다는 뜻임 #append와 다름\n",
        "    print(f\"sent {i} : {sent_token}\")\n",
        "\n",
        "token_set = set(total_tokens)\n",
        "\n",
        "print(f\"\"\" \n",
        "total_tokens : {token_set}\n",
        "#_of_total_tokens : {len(token_set)}\n",
        "\"\"\")"
      ],
      "metadata": {
        "colab": {
          "base_uri": "https://localhost:8080/"
        },
        "id": "-aAELdQTPXD5",
        "outputId": "43f091e6-a525-4dae-acea-3e724ed579c0"
      },
      "execution_count": 9,
      "outputs": [
        {
          "output_type": "stream",
          "name": "stdout",
          "text": [
            "sent 0 : ['I', 'am', 'a', 'student.']\n",
            "sent 1 : ['J', 'is', 'the', 'alphabet', 'that', 'follows', 'i.']\n",
            "sent 2 : ['Is', 'she', 'a', 'student', 'trying', 'to', 'become', 'a', 'data', 'scientist?']\n",
            " \n",
            "total_tokens : {'J', 'Is', 'a', 'become', 'trying', 'the', 'i.', 'is', 'that', 'data', 'she', 'scientist?', 'I', 'to', 'am', 'alphabet', 'student.', 'student', 'follows'}\n",
            "#_of_total_tokens : 19\n",
            "\n"
          ]
        }
      ]
    },
    {
      "cell_type": "code",
      "source": [
        "###  tokenizer.pipe(sent_lst)  ###\n",
        "for i in tokenizer.pipe(sent_lst):\n",
        "    print(i)\n",
        "\n",
        "type(i) #spacy.tokens.doc.Doc 문자형태가 다름"
      ],
      "metadata": {
        "colab": {
          "base_uri": "https://localhost:8080/"
        },
        "id": "17pcZhJMBnjB",
        "outputId": "2d5548f6-4a31-4ef7-f480-87425ab12ca6"
      },
      "execution_count": 5,
      "outputs": [
        {
          "output_type": "stream",
          "name": "stdout",
          "text": [
            "I am a student.\n",
            "J is the alphabet that follows i.\n",
            "Is she a student trying to become a data scientist?\n"
          ]
        },
        {
          "output_type": "execute_result",
          "data": {
            "text/plain": [
              "spacy.tokens.doc.Doc"
            ]
          },
          "metadata": {},
          "execution_count": 5
        }
      ]
    },
    {
      "cell_type": "code",
      "source": [
        "for i in sent_lst:\n",
        "    print(i)\n",
        "\n",
        "type(i)"
      ],
      "metadata": {
        "colab": {
          "base_uri": "https://localhost:8080/"
        },
        "id": "3GlWOrLyBvdU",
        "outputId": "d02a0691-78b2-42c0-d4c6-d88b9054699d"
      },
      "execution_count": 6,
      "outputs": [
        {
          "output_type": "stream",
          "name": "stdout",
          "text": [
            "I am a student.\n",
            "J is the alphabet that follows i.\n",
            "Is she a student trying to become a data scientist?\n"
          ]
        },
        {
          "output_type": "execute_result",
          "data": {
            "text/plain": [
              "str"
            ]
          },
          "metadata": {},
          "execution_count": 6
        }
      ]
    },
    {
      "cell_type": "code",
      "source": [
        "#token.text로 나뉨\n",
        "sent_token"
      ],
      "metadata": {
        "colab": {
          "base_uri": "https://localhost:8080/"
        },
        "id": "pprAiSv6B97h",
        "outputId": "de3aa024-6b15-4095-e7c2-9d2b278ff168"
      },
      "execution_count": 9,
      "outputs": [
        {
          "output_type": "execute_result",
          "data": {
            "text/plain": [
              "['Is',\n",
              " 'she',\n",
              " 'a',\n",
              " 'student',\n",
              " 'trying',\n",
              " 'to',\n",
              " 'become',\n",
              " 'a',\n",
              " 'data',\n",
              " 'scientist?']"
            ]
          },
          "metadata": {},
          "execution_count": 9
        }
      ]
    },
    {
      "cell_type": "code",
      "source": [
        "#set을 통해서 집합형태로 묶음, 순서가 없고 집합안에서 unique한 값들을 가짐\n",
        "print(type(total_tokens))\n",
        "print(type(set(total_tokens)))"
      ],
      "metadata": {
        "colab": {
          "base_uri": "https://localhost:8080/"
        },
        "id": "90nhg9lHCjPe",
        "outputId": "0a4fd9f8-9d4e-4f0a-bdbc-e59e69cb3149"
      },
      "execution_count": 10,
      "outputs": [
        {
          "output_type": "stream",
          "name": "stdout",
          "text": [
            "<class 'list'>\n",
            "<class 'set'>\n"
          ]
        }
      ]
    },
    {
      "cell_type": "markdown",
      "source": [
        "---"
      ],
      "metadata": {
        "id": "XgJB3wm6Dufr"
      }
    },
    {
      "cell_type": "code",
      "source": [
        "#sent_token = [token.text for token in sent]\n",
        "#token_set = set(total_tokens)\n",
        "# word2idx(sent, total)형태로 작성하면 함수를 사용할 수 있음\n",
        "# \n",
        "def word2idx(sent, total):\n",
        "    sent_token = sent.split()\n",
        "    return [1 if word in sent_token else 0 for word in total]\n",
        "\n",
        "\n",
        "sent1_idx = word2idx(sent1, token_set)\n",
        "sent2_idx = word2idx(sent2, token_set)\n",
        "sent3_idx = word2idx(sent3, token_set)"
      ],
      "metadata": {
        "id": "XfrvOSJTCVJf"
      },
      "execution_count": 5,
      "outputs": []
    },
    {
      "cell_type": "code",
      "source": [
        "sent1_idx"
      ],
      "metadata": {
        "colab": {
          "base_uri": "https://localhost:8080/"
        },
        "id": "YE0Z-JLgEmrq",
        "outputId": "998d29aa-61bd-4f4c-ca5d-3fa58cbd4507"
      },
      "execution_count": 64,
      "outputs": [
        {
          "output_type": "execute_result",
          "data": {
            "text/plain": [
              "[0, 1, 0, 1, 0, 0, 0, 0, 0, 1, 0, 0, 0, 0, 0, 1, 0, 0, 0]"
            ]
          },
          "metadata": {},
          "execution_count": 64
        }
      ]
    },
    {
      "cell_type": "code",
      "source": [
        "token_set"
      ],
      "metadata": {
        "id": "EgAixN_0L4i0"
      },
      "execution_count": null,
      "outputs": []
    },
    {
      "cell_type": "code",
      "source": [
        "import pandas as pd\n",
        "# columns=token_set\n",
        "dtm = pd.DataFrame([sent2_idx, sent2_idx, sent3_idx],  columns=set(total_tokens))\n",
        "dtm.shape"
      ],
      "metadata": {
        "colab": {
          "base_uri": "https://localhost:8080/"
        },
        "id": "qAMlz4mNFeDc",
        "outputId": "cce4d98f-fa77-41ce-8881-23a35bee07e0"
      },
      "execution_count": 6,
      "outputs": [
        {
          "output_type": "execute_result",
          "data": {
            "text/plain": [
              "(3, 19)"
            ]
          },
          "metadata": {},
          "execution_count": 6
        }
      ]
    },
    {
      "cell_type": "code",
      "source": [
        "dtm"
      ],
      "metadata": {
        "colab": {
          "base_uri": "https://localhost:8080/",
          "height": 143
        },
        "id": "akx0N5_4F0W0",
        "outputId": "7ba2dccd-eee7-4fb0-bd23-010430512cde"
      },
      "execution_count": 7,
      "outputs": [
        {
          "output_type": "execute_result",
          "data": {
            "text/plain": [
              "   J  Is  a  become  trying  the  i.  is  that  data  she  scientist?  I  to  \\\n",
              "0  1   0  0       0       0    1   1   1     1     0    0           0  0   0   \n",
              "1  1   0  0       0       0    1   1   1     1     0    0           0  0   0   \n",
              "2  0   1  1       1       1    0   0   0     0     1    1           1  0   1   \n",
              "\n",
              "   am  alphabet  student.  student  follows  \n",
              "0   0         1         0        0        1  \n",
              "1   0         1         0        0        1  \n",
              "2   0         0         0        1        0  "
            ],
            "text/html": [
              "\n",
              "  <div id=\"df-d5d583ed-e1f5-4559-a07b-c8b33a099a3f\">\n",
              "    <div class=\"colab-df-container\">\n",
              "      <div>\n",
              "<style scoped>\n",
              "    .dataframe tbody tr th:only-of-type {\n",
              "        vertical-align: middle;\n",
              "    }\n",
              "\n",
              "    .dataframe tbody tr th {\n",
              "        vertical-align: top;\n",
              "    }\n",
              "\n",
              "    .dataframe thead th {\n",
              "        text-align: right;\n",
              "    }\n",
              "</style>\n",
              "<table border=\"1\" class=\"dataframe\">\n",
              "  <thead>\n",
              "    <tr style=\"text-align: right;\">\n",
              "      <th></th>\n",
              "      <th>J</th>\n",
              "      <th>Is</th>\n",
              "      <th>a</th>\n",
              "      <th>become</th>\n",
              "      <th>trying</th>\n",
              "      <th>the</th>\n",
              "      <th>i.</th>\n",
              "      <th>is</th>\n",
              "      <th>that</th>\n",
              "      <th>data</th>\n",
              "      <th>she</th>\n",
              "      <th>scientist?</th>\n",
              "      <th>I</th>\n",
              "      <th>to</th>\n",
              "      <th>am</th>\n",
              "      <th>alphabet</th>\n",
              "      <th>student.</th>\n",
              "      <th>student</th>\n",
              "      <th>follows</th>\n",
              "    </tr>\n",
              "  </thead>\n",
              "  <tbody>\n",
              "    <tr>\n",
              "      <th>0</th>\n",
              "      <td>1</td>\n",
              "      <td>0</td>\n",
              "      <td>0</td>\n",
              "      <td>0</td>\n",
              "      <td>0</td>\n",
              "      <td>1</td>\n",
              "      <td>1</td>\n",
              "      <td>1</td>\n",
              "      <td>1</td>\n",
              "      <td>0</td>\n",
              "      <td>0</td>\n",
              "      <td>0</td>\n",
              "      <td>0</td>\n",
              "      <td>0</td>\n",
              "      <td>0</td>\n",
              "      <td>1</td>\n",
              "      <td>0</td>\n",
              "      <td>0</td>\n",
              "      <td>1</td>\n",
              "    </tr>\n",
              "    <tr>\n",
              "      <th>1</th>\n",
              "      <td>1</td>\n",
              "      <td>0</td>\n",
              "      <td>0</td>\n",
              "      <td>0</td>\n",
              "      <td>0</td>\n",
              "      <td>1</td>\n",
              "      <td>1</td>\n",
              "      <td>1</td>\n",
              "      <td>1</td>\n",
              "      <td>0</td>\n",
              "      <td>0</td>\n",
              "      <td>0</td>\n",
              "      <td>0</td>\n",
              "      <td>0</td>\n",
              "      <td>0</td>\n",
              "      <td>1</td>\n",
              "      <td>0</td>\n",
              "      <td>0</td>\n",
              "      <td>1</td>\n",
              "    </tr>\n",
              "    <tr>\n",
              "      <th>2</th>\n",
              "      <td>0</td>\n",
              "      <td>1</td>\n",
              "      <td>1</td>\n",
              "      <td>1</td>\n",
              "      <td>1</td>\n",
              "      <td>0</td>\n",
              "      <td>0</td>\n",
              "      <td>0</td>\n",
              "      <td>0</td>\n",
              "      <td>1</td>\n",
              "      <td>1</td>\n",
              "      <td>1</td>\n",
              "      <td>0</td>\n",
              "      <td>1</td>\n",
              "      <td>0</td>\n",
              "      <td>0</td>\n",
              "      <td>0</td>\n",
              "      <td>1</td>\n",
              "      <td>0</td>\n",
              "    </tr>\n",
              "  </tbody>\n",
              "</table>\n",
              "</div>\n",
              "      <button class=\"colab-df-convert\" onclick=\"convertToInteractive('df-d5d583ed-e1f5-4559-a07b-c8b33a099a3f')\"\n",
              "              title=\"Convert this dataframe to an interactive table.\"\n",
              "              style=\"display:none;\">\n",
              "        \n",
              "  <svg xmlns=\"http://www.w3.org/2000/svg\" height=\"24px\"viewBox=\"0 0 24 24\"\n",
              "       width=\"24px\">\n",
              "    <path d=\"M0 0h24v24H0V0z\" fill=\"none\"/>\n",
              "    <path d=\"M18.56 5.44l.94 2.06.94-2.06 2.06-.94-2.06-.94-.94-2.06-.94 2.06-2.06.94zm-11 1L8.5 8.5l.94-2.06 2.06-.94-2.06-.94L8.5 2.5l-.94 2.06-2.06.94zm10 10l.94 2.06.94-2.06 2.06-.94-2.06-.94-.94-2.06-.94 2.06-2.06.94z\"/><path d=\"M17.41 7.96l-1.37-1.37c-.4-.4-.92-.59-1.43-.59-.52 0-1.04.2-1.43.59L10.3 9.45l-7.72 7.72c-.78.78-.78 2.05 0 2.83L4 21.41c.39.39.9.59 1.41.59.51 0 1.02-.2 1.41-.59l7.78-7.78 2.81-2.81c.8-.78.8-2.07 0-2.86zM5.41 20L4 18.59l7.72-7.72 1.47 1.35L5.41 20z\"/>\n",
              "  </svg>\n",
              "      </button>\n",
              "      \n",
              "  <style>\n",
              "    .colab-df-container {\n",
              "      display:flex;\n",
              "      flex-wrap:wrap;\n",
              "      gap: 12px;\n",
              "    }\n",
              "\n",
              "    .colab-df-convert {\n",
              "      background-color: #E8F0FE;\n",
              "      border: none;\n",
              "      border-radius: 50%;\n",
              "      cursor: pointer;\n",
              "      display: none;\n",
              "      fill: #1967D2;\n",
              "      height: 32px;\n",
              "      padding: 0 0 0 0;\n",
              "      width: 32px;\n",
              "    }\n",
              "\n",
              "    .colab-df-convert:hover {\n",
              "      background-color: #E2EBFA;\n",
              "      box-shadow: 0px 1px 2px rgba(60, 64, 67, 0.3), 0px 1px 3px 1px rgba(60, 64, 67, 0.15);\n",
              "      fill: #174EA6;\n",
              "    }\n",
              "\n",
              "    [theme=dark] .colab-df-convert {\n",
              "      background-color: #3B4455;\n",
              "      fill: #D2E3FC;\n",
              "    }\n",
              "\n",
              "    [theme=dark] .colab-df-convert:hover {\n",
              "      background-color: #434B5C;\n",
              "      box-shadow: 0px 1px 3px 1px rgba(0, 0, 0, 0.15);\n",
              "      filter: drop-shadow(0px 1px 2px rgba(0, 0, 0, 0.3));\n",
              "      fill: #FFFFFF;\n",
              "    }\n",
              "  </style>\n",
              "\n",
              "      <script>\n",
              "        const buttonEl =\n",
              "          document.querySelector('#df-d5d583ed-e1f5-4559-a07b-c8b33a099a3f button.colab-df-convert');\n",
              "        buttonEl.style.display =\n",
              "          google.colab.kernel.accessAllowed ? 'block' : 'none';\n",
              "\n",
              "        async function convertToInteractive(key) {\n",
              "          const element = document.querySelector('#df-d5d583ed-e1f5-4559-a07b-c8b33a099a3f');\n",
              "          const dataTable =\n",
              "            await google.colab.kernel.invokeFunction('convertToInteractive',\n",
              "                                                     [key], {});\n",
              "          if (!dataTable) return;\n",
              "\n",
              "          const docLinkHtml = 'Like what you see? Visit the ' +\n",
              "            '<a target=\"_blank\" href=https://colab.research.google.com/notebooks/data_table.ipynb>data table notebook</a>'\n",
              "            + ' to learn more about interactive tables.';\n",
              "          element.innerHTML = '';\n",
              "          dataTable['output_type'] = 'display_data';\n",
              "          await google.colab.output.renderOutput(dataTable, element);\n",
              "          const docLink = document.createElement('div');\n",
              "          docLink.innerHTML = docLinkHtml;\n",
              "          element.appendChild(docLink);\n",
              "        }\n",
              "      </script>\n",
              "    </div>\n",
              "  </div>\n",
              "  "
            ]
          },
          "metadata": {},
          "execution_count": 7
        }
      ]
    },
    {
      "cell_type": "code",
      "source": [
        "'student' in ['student.']"
      ],
      "metadata": {
        "colab": {
          "base_uri": "https://localhost:8080/"
        },
        "id": "4co_UaAdMOxV",
        "outputId": "1ffc9a94-2693-4ca7-a03b-9985c20c7218"
      },
      "execution_count": 10,
      "outputs": [
        {
          "output_type": "execute_result",
          "data": {
            "text/plain": [
              "False"
            ]
          },
          "metadata": {},
          "execution_count": 10
        }
      ]
    },
    {
      "cell_type": "code",
      "source": [
        "import re #정규표현식 모듈,  특정 규칙이 있는 텍스트 데이터를 빠르게 정제\n",
        "def lower_and_regex(sentence):\n",
        "    \"\"\"\n",
        "    모든 대문자를 소문자로 변경 후\n",
        "    정규식을 이용하여 알파벳 소문자 이외의 구두점 삭제\n",
        "    \"\"\"\n",
        "    sentence = sentence.lower() #소문자로 바꿈\n",
        "    #re.sub문자열에서 정규 표현식과 일치하는 부분에 대해서 다른 문자열로 대체합니다.\n",
        "    sentence = re.sub(r\"[^a-z ]\", \"\", sentence)\n",
        "    return sentence\n",
        "\n",
        "prep_sent_lst = [lower_and_regex(sent) for sent in sent_lst]\n"
      ],
      "metadata": {
        "id": "ax11hG5yORXj"
      },
      "execution_count": null,
      "outputs": []
    },
    {
      "cell_type": "markdown",
      "source": [],
      "metadata": {
        "id": "w1OcircBOgom"
      }
    }
  ]
}