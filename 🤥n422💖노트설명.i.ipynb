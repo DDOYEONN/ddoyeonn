{
  "nbformat": 4,
  "nbformat_minor": 0,
  "metadata": {
    "colab": {
      "name": "N422_Distributed_Representation_.ipynb",
      "provenance": []
    },
    "kernelspec": {
      "name": "python3",
      "display_name": "Python 3"
    },
    "language_info": {
      "name": "python"
    }
  },
  "cells": [
    {
      "cell_type": "markdown",
      "metadata": {
        "id": "jq8WE8TEepJE"
      },
      "source": [
        "<img align=\"right\" src=\"https://ds-cs-images.s3.ap-northeast-2.amazonaws.com/Codestates_Fulllogo_Color.png\" width=100>\n",
        "\n",
        "## *AIB / SECTION 4 / SPRINT 2 / NOTE 2*\n",
        "\n",
        "---\n",
        "\n",
        "# 단어를 분산 표현(Distributed Representation)으로 나타내기"
      ]
    },
    {
      "cell_type": "markdown",
      "metadata": {
        "id": "VfNjGHj7fFhs"
      },
      "source": [
        "## 1. Distributed Representation"
      ]
    },
    {
      "cell_type": "markdown",
      "metadata": {
        "id": "A_lw6LV9jnL1"
      },
      "source": [
        "지난 시간에는 문서 내에 단어가 등장하는 횟수를 기반으로 문서를 벡터화하는 **등장 횟수 기반 표현(Count-based Representation)**에 대해서 알아보았습니다.\n",
        "\n"
      ]
    },
    {
      "cell_type": "markdown",
      "metadata": {
        "id": "l5tatQc8yqLs"
      },
      "source": [
        "이번 시간에는 단어 자체를 벡터화하는 방법에 대해서 알아보겠습니다.<br/>\n",
        "아래에 등장하는 Word2Vec 에서는 우리가 벡터화하고자 하는 **타겟 단어(Target word)의 표현이 해당 단어 주변 단어에 의해 결정**됩니다."
      ]
    },
    {
      "cell_type": "markdown",
      "metadata": {
        "id": "r90FuVRHy-Ul"
      },
      "source": [
        "단어 벡터를 이렇게 정하는 이유는 [분포 가설(Distribution hypothesis)](https://en.wikipedia.org/wiki/Distributional_semantics) 때문입니다.<br/>\n",
        "분포 가설은 다음과 같습니다.\n",
        "\n",
        "> **'비슷한 위치에서 등장하는 단어들은 비슷한 의미를 가진다'**"
      ]
    },
    {
      "cell_type": "markdown",
      "metadata": {
        "id": "mPosM9abra3a"
      },
      "source": [
        "<img src=\"http://cdn.ppomppu.co.kr/zboard/data3/2018/1004/m_1538578985_9861_3dba059e_23ec_43dc_9f27_ce1d58c00e71.png.jpg\">"
      ]
    },
    {
      "cell_type": "markdown",
      "metadata": {
        "id": "P-cDWwuFtbKJ"
      },
      "source": [
        "'유유상종'이라는 사자성어처럼 **비슷한 의미를 지닌 단어는 주변 단어 분포도 비슷하다**는 것이죠."
      ]
    },
    {
      "cell_type": "markdown",
      "metadata": {
        "id": "I4MvQpfNrci2"
      },
      "source": [
        "예를 들어, 아래와 같은 두 문장이 있다고 해보겠습니다.\n",
        "\n",
        "- I found **good** stores.\n",
        "- I found **beautiful** stores.\n",
        "\n",
        "두 문장에서 _\"**good** 과 **beautiful** 은 해당 단어 주변에 분포한 단어가 유사하기 때문에 비슷한 의미를 지닐 것이다\"_ 라고 가정하는 것이 분포 가설입니다.\n",
        "\n",
        "바로 이 분포 가설에 기반하여 주변 단어 분포를 기준으로 단어의 벡터 표현이 결정되기 때문에 **<font color=\"ff6f61\">분산 표현(Distributed representation)</font>**이라고 부르게 됩니다."
      ]
    },
    {
      "cell_type": "markdown",
      "metadata": {
        "id": "ZW53G8m2sUk-"
      },
      "source": [
        "본격적으로 분산 표현을 배우기에 앞서, **원-핫 인코딩(One-hot Encoding)**에 대해 알아보겠습니다."
      ]
    },
    {
      "cell_type": "markdown",
      "metadata": {
        "id": "oFGEdx2znpT0"
      },
      "source": [
        "### 1) 원-핫 인코딩(One-hot Encoding)"
      ]
    },
    {
      "cell_type": "markdown",
      "metadata": {
        "id": "TubL1RIyfMIt"
      },
      "source": [
        "원-핫 인코딩은 범주형 변수(Categorical feature)를 벡터로 나타내는 방법 중 하나인데요.<br/>\n",
        "이런 특성을 살려 단어를 벡터화하고자 할 때에도 사용할 수 있습니다.\n",
        "\n",
        "데이터프레임에서 범주형 변수를 요소마다 [0 0 0 1 ...] 의 형태로 나타냈던 것과 동일한 방법을 사용합니다.\n",
        "\n",
        "> \"I am a student\"\n",
        "\n",
        "라는 문장에서 각 단어를 원-핫 인코딩으로 나타내면 다음과 같습니다.\n",
        "\n",
        "> I : [1 0 0 0] <br/>\n",
        "> am : [0 1 0 0] <br/>\n",
        "> a : [0 0 1 0] <br/>\n",
        "> student : [0 0 0 1]"
      ]
    },
    {
      "cell_type": "code",
      "metadata": {
        "colab": {
          "base_uri": "https://localhost:8080/"
        },
        "id": "bVe3herbbLk_",
        "outputId": "4cbaa86c-6dc0-4bbb-91b0-9fc06dd2042d"
      },
      "source": [
        "sent = \"I am a student\"\n",
        "word_lst = sent.split() # ['I', 'am', 'a', 'student']\n",
        "\n",
        "word_dict = {} # 딕셔너리 형태로 담을거양!\n",
        "\n",
        "for idx, word in enumerate(word_lst): #idx = index값 \n",
        "    vec = [0 for _ in range(len(word_lst))]  #변수지정없이 4번 반복한다 #range(0부터 4) #0으로 채워준다\n",
        "    vec[idx] = 1\n",
        "    word_dict[word] = vec\n",
        "\n",
        "print(word_dict)"
      ],
      "execution_count": null,
      "outputs": [
        {
          "output_type": "stream",
          "name": "stdout",
          "text": [
            "{'I': [1, 0, 0, 0], 'am': [0, 1, 0, 0], 'a': [0, 0, 1, 0], 'student': [0, 0, 0, 1]}\n"
          ]
        }
      ]
    },
    {
      "cell_type": "code",
      "source": [
        "#for문 과정\n",
        "# vec = [0,0,0,0]\n",
        "# vec[0] = [1, 0, 0, 0]\n",
        "# word_dict[i] = [1, 0, 0, 0]"
      ],
      "metadata": {
        "id": "drJkoWRoR8LM"
      },
      "execution_count": null,
      "outputs": []
    },
    {
      "cell_type": "markdown",
      "metadata": {
        "id": "Z8jt3n1zoeXX"
      },
      "source": [
        "쉽게 이해할 수 있는 직관적인 방법이지만 원-핫 인코딩에는 치명적인 단점이 있습니다.<br/>\n",
        "바로 단어 간 유사도를 구할 수 없다는 점인데요.\n",
        "\n",
        "단어 간 유사도를 구할 때에는 **코사인 유사도(cosine similarity)**가 자주 사용됩니다.<br/>\n",
        "코사인 유사도를 구하기 위한 식은 다음과 같습니다.\n",
        "\n",
        "$$\n",
        "\\large \\text{Cosine similarity} = \\frac{\\vec{a} \\cdot \\vec{b} }{\\vert \\vec{a} \\vert \\vert \\vec{b} \\vert }\n",
        "$$"
      ]
    },
    {
      "cell_type": "markdown",
      "metadata": {
        "id": "T0hBgB1Bsheq"
      },
      "source": [
        "원-핫 인코딩을 적용한 서로 다른 두 벡터의 내적은 항상 0이므로, 어떤 두 단어를 골라 코사인 유사도를 구하더라도 그 값은 0이 됩니다.<br/>\n",
        "이렇게 두 단어 사이의 관계를 전혀 알 수 없다는 것이 원-핫 인코딩의 최대 단점입니다."
      ]
    },
    {
      "cell_type": "code",
      "metadata": {
        "colab": {
          "base_uri": "https://localhost:8080/"
        },
        "id": "iPc8HC7xclGi",
        "outputId": "3948a260-f472-4039-f209-cdda870674e6"
      },
      "source": [
        "import numpy as np\n",
        "\n",
        "def cos_sim(a, b):\n",
        "    \"\"\"\n",
        "    코사인 유사도를 구하는 함수입니다.\n",
        "    \n",
        "    Args:\n",
        "        a, b : 토큰 벡터입니다 -> array\n",
        "    \"\"\"\n",
        "    arr_a = np.array(a)\n",
        "    arr_b = np.array(b)\n",
        "\n",
        "    result = np.dot(arr_a, arr_b)/(np.linalg.norm(arr_a)*np.linalg.norm(arr_b))\n",
        "    return result\n",
        "\n",
        "print(f\"I 와 am 의 코사인 유사도 : {cos_sim(word_dict['I'], word_dict['am'])}\")\n",
        "print(f\"I 와 student 의 코사인 유사도 : {cos_sim(word_dict['I'], word_dict['student'])}\")"
      ],
      "execution_count": null,
      "outputs": [
        {
          "output_type": "stream",
          "name": "stdout",
          "text": [
            "I 와 am 의 코사인 유사도 : 0.0\n",
            "I 와 student 의 코사인 유사도 : 0.0\n"
          ]
        }
      ]
    },
    {
      "cell_type": "markdown",
      "metadata": {
        "id": "ue8XIZViZUj8"
      },
      "source": [
        "### 2) 임베딩(Embedding)"
      ]
    },
    {
      "cell_type": "markdown",
      "metadata": {
        "id": "PShO1N4dJJFO"
      },
      "source": [
        "원-핫 인코딩의 단점을 해결하기 위해 등장한 것이 **<font color=\"ff6f61\">임베딩(Embedding)</font>**입니다. <br/>\n",
        "단어를 고정 길이의 벡터, 즉 차원이 일정한 벡터로 나타내기 때문에 '임베딩'이라는 이름이 붙었습니다.<br/>\n",
        "**임베딩을 거친 단어 벡터는 원-핫 인코딩과는 다른 형태의 값을 가집니다.**\n",
        "\n",
        "예를 들어,\n",
        "\n",
        "> [0.04227, -0.0033, 0.1607, -0.0236, ...]\n",
        "\n",
        "위와 같이 벡터 내의 각 요소가 연속적인 값을 가지게 됩니다.<br/>\n",
        "어떻게 이런 벡터가 만들어지는지, 가장 널리 알려진 임베딩 방법인 **`Word2Vec`** 를 통해 알아보도록 하겠습니다.\n",
        "\n",
        "> ❗️ *임베딩의 개념, 즉 '벡터가 아닌 것을 고정 길이의 벡터로 나타내기'는 자연어처리 외 다른 딥러닝 분야에서도 등장하니 잘 기억해두도록 합시다. :)*"
      ]
    },
    {
      "cell_type": "markdown",
      "metadata": {
        "id": "QgGJEGGWgh4h"
      },
      "source": [
        "## 2. Word2Vec"
      ]
    },
    {
      "cell_type": "markdown",
      "metadata": {
        "id": "EhGyaZzbYuc3"
      },
      "source": [
        "2013년에 고안된 **<font color=\"ff6f61\">Word2Vec</font>** 은 말 그대로 **단어를 벡터로(Word to Vector) 나타내는 방법**으로 가장 널리 사용되는 임베딩 방법 중 하나입니다.<br>\n",
        "**`Word2Vec`**은 특정 단어 양 옆에 있는 두 단어(**`window size = 2`**)의 관계를 활용하기 때문에 **분포 가설을 잘 반영**하고 있습니다.\n",
        "\n",
        "**`Word2Vec`** 에는 **`CBoW`**와 **`Skip-gram`**의 2가지 방법이 있습니다.<br/>\n",
        "두 가지 방법이 어떻게 다른지에 대해서 알아보도록 하겠습니다."
      ]
    },
    {
      "cell_type": "markdown",
      "metadata": {
        "id": "fQX5w8Q1OBLE"
      },
      "source": [
        "### 1) CBoW 와 Skip-gram"
      ]
    },
    {
      "cell_type": "markdown",
      "metadata": {
        "id": "jlpZAt5XOGqF"
      },
      "source": [
        "`CBoW`와 `Skip-gram`의 차이는 \n",
        "\n",
        "1. 주변 단어에 대한 정보를 기반으로 중심 단어의 정보를 예측하는 모델인지 ▶️ **<font color=\"ff6f61\">CBoW(Continuous Bag-of-Words)</font>**\n",
        "2. 중심 단어의 정보를 기반으로 주변 단어의 정보를 예측하는 모델인지 ▶️ **<font color=\"ff6f61\">Skip-gram</font>**\n",
        "\n",
        "에 따라서 달라집니다.\n",
        "\n",
        "아래 그림을 통해 두 방식의 차이를 좀 더 잘 이해해보도록 하겠습니다."
      ]
    },
    {
      "cell_type": "markdown",
      "source": [
        "![image.png](data:image/png;base64,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)"
      ],
      "metadata": {
        "id": "IeETJGYWiSS-"
      }
    },
    {
      "cell_type": "markdown",
      "metadata": {
        "id": "iq3TTka8pITR"
      },
      "source": [
        "예시를 통해서도 둘의 차이를 알아보겠습니다.<br/>\n",
        "<별 헤는 밤> 의 일부분에 형태소 분석기를 적용하여 토큰화한 것입니다.\n",
        "\n",
        "> “… 어머님 나 는 별 하나 에 아름다운 말 한마디 씩 불러 봅니다 …”\n",
        "\n",
        "**CBoW** 를 사용하면 표시된 단어 정보를 바탕으로 아래의 [ ---- ] 에 들어갈 단어를 예측하는 과정으로 학습이 진행됩니다.\n",
        "\n",
        "> “… 나 는 [ -- ] 하나 에 … “ <br/>\n",
        "> “… 는 별 [ ---- ] 에 아름다운 …”<br/>\n",
        "> “… 별 하나 [ -- ] 아름다운 말 …”<br/>\n",
        "> “… 하나 에 [ -------- ] 말 한마디 …”\n",
        "\n",
        "**Skip-gram** 을 사용하면 표시된 단어 정보를 바탕으로 다음의 [ ---- ] 에 들어갈 단어를 예측하는 과정으로 학습이 진행됩니다.\n",
        "\n",
        "> “… [ -- ] [ -- ] 별 [ ---- ] [ -- ] …” <br/>\n",
        "> “… [ -- ] [ -- ] 하나 [ -- ] [ -------- ] …” <br/>\n",
        "> “… [ -- ] [ ---- ] 에 [ -------- ] [ -- ] …” <br/>\n",
        "> “… [ ---- ] [ -- ] 아름다운 [ -- ] [ ------ ] …”"
      ]
    },
    {
      "cell_type": "markdown",
      "metadata": {
        "id": "wSgkGFmQYRYW"
      },
      "source": [
        "더 많은 정보를 바탕으로 특정 단어를 예측하기 때문에 CBoW의 성능이 더 좋을 것으로 생각하기 쉽지만,<br/>\n",
        "역전파 관점에서 보면 Skip-gram에서 훨씬 더 많은 학습이 일어나기 때문에 **Skip-gram의 성능이 조금 더 좋게 나타납니다.**<br/>\n",
        "물론 계산량이 많기 때문에 Skip-gram에 드는 리소스가 더 큰 것도 사실입니다."
      ]
    },
    {
      "cell_type": "markdown",
      "metadata": {
        "id": "5IWk9B_hUOh7"
      },
      "source": [
        "### 2) Word2Vec 모델의 구조"
      ]
    },
    {
      "cell_type": "markdown",
      "metadata": {
        "id": "UYSoAe-CdQdn"
      },
      "source": [
        "성능 덕분에 조금 더 자주 사용되는 Skip-gram을 기준으로 Word2Vec의 구조에 대해 알아보겠습니다.\n",
        "\n",
        "- 입력 : Word2Vec의 입력은 원-핫 인코딩된 단어 벡터입니다.\n",
        "- 은닉층 : 임베딩 벡터의 차원수 만큼의 노드로 구성된 은닉층이 1개인 신경망입니다.\n",
        "- 출력층 : 단어 개수 만큼의 노드로 이루어져 있으며 활성화 함수로 소프트맥스를 사용합니다.\n",
        "\n",
        "아래 그림을 통해서 Word2Vec 모델의 개략적인 구조에 대해 알아보겠습니다.\n",
        "\n",
        "논문에서는 총 10,000개의 단어에 대해서 300차원의 임베딩 벡터를 구했기 때문에<br/>\n",
        "신경망 구조가 아래와 같아졌습니다."
      ]
    },
    {
      "cell_type": "markdown",
      "metadata": {
        "id": "7CzDiHIGUrm6"
      },
      "source": [
        "<img src=\"http://mccormickml.com/assets/word2vec/skip_gram_net_arch.png\" width=\"800\" />\n"
      ]
    },
    {
      "cell_type": "markdown",
      "metadata": {
        "id": "4nkxYzf2UbZ_"
      },
      "source": [
        "### 3) Word2Vec 학습을 위한 학습 데이터 디자인"
      ]
    },
    {
      "cell_type": "markdown",
      "metadata": {
        "id": "d_6oJ9xHUivT"
      },
      "source": [
        "효율적인 Word2Vec 학습을 위해서는 학습 데이터를 잘 구성해야 합니다.<br/>\n",
        "Window 사이즈가 2인 Word2Vec 이므로 중심 단어 옆에 있는 2개 단어에 대해 단어쌍을 구성합니다.\n",
        "\n",
        "예를 들어, **\"The tortoise jumped into the lake\"** 라는 문장에 대해 단어쌍을 구성해보겠습니다.<br/>\n",
        "윈도우 크기가 2인 경우 다음과 같이 Skip-gram을 학습하기 위한 데이터 쌍을 구축할 수 있습니다.\n",
        "\n",
        "- 중심 단어 : **The**, 주변 문맥 단어 : tortoise, jumped\n",
        "    - 학습 샘플: (the, tortoise), (the, jumped)\n",
        "- 중심 단어 : **tortoise**, 주변 문맥 단어 : the, jumped, into\n",
        "    - 학습 샘플: (tortoise, the), (tortoise, jumped), (tortoise, into)\n",
        "- 중심 단어 : **jumped**, 주변 문맥 단어 : the, tortoise, into, the\n",
        "    - 학습 샘플: (jumped, the), (jumped, tortoise), (jumped, into), (jumped, the)\n",
        "- 중심 단어 : **into**, 주변 문맥 단어 : tortoise, jumped, the, lake\n",
        "    - 학습 샘플: (into, tortoise), (into, jumped), (into, the), (into, lake)\n",
        "\n",
        "이런 방법으로 학습 데이터를 만들면 다음과 같은 데이터쌍이 만들어 집니다. \n",
        "\n",
        "|중심단어|문맥단어|\n",
        "|---------|---------|\n",
        "|the|tortoise|\n",
        "|the|jumped|\n",
        "|tortoise|the|\n",
        "|tortoise|jumped|\n",
        "|tortoise|into|\n",
        "|jumped|the|\n",
        "|jumped|tortoise|\n",
        "|jumped|into|\n",
        "|jumped|the|\n",
        "|into|tortoise|\n",
        "|into|jumped|\n",
        "|into|the|\n",
        "|into|lake|\n",
        "|...|...|"
      ]
    },
    {
      "cell_type": "markdown",
      "metadata": {
        "id": "5JIjkND27xwL"
      },
      "source": [
        "Skip-gram 에서는 중심단어를 입력으로, 문맥단어를 레이블로 하는 분류(Classification)를 통해 학습한다고 생각하시면 되겠습니다."
      ]
    },
    {
      "cell_type": "markdown",
      "metadata": {
        "id": "h0jROQAeWiuu"
      },
      "source": [
        "### 4) Word2Vec의 결과"
      ]
    },
    {
      "cell_type": "markdown",
      "metadata": {
        "id": "0pU6qkwNXYpm"
      },
      "source": [
        "학습이 모두 끝나면 10000개의 단어에 대해 300차원의 임베딩 벡터가 생성됩니다. <br/>\n",
        "만약에 임베딩 벡터의 차원을 조절하고 싶다면 은닉층의 노드 수를 줄이거나 늘릴 수 있습니다.<br/>\n",
        "\n",
        "아래 그림은 신경망 내부에 있는 $10000 \\times 300$ 크기의 가중치 행렬에 의해서<br/>\n",
        "10000개 단어에 대한 300차원의 벡터가 생성되는 모습을 나타낸 이미지입니다."
      ]
    },
    {
      "cell_type": "markdown",
      "metadata": {
        "id": "qHeZ4g1xWlAv"
      },
      "source": [
        "<img src=\"https://i.imgur.com/1ETMljf.png\" width=\"600\" />\n"
      ]
    },
    {
      "cell_type": "markdown",
      "metadata": {
        "id": "I1QlmsbqY2J2"
      },
      "source": [
        "학습과정에서 Word2Vec의 계산량을 줄이기 위해 사용하는 기법들이 있지만 아직은 너무 깊게 들어가지 않겠습니다.<br/>\n",
        "추후 아래 키워드를 통해 Word2Vec을 조금 더 적은 계산으로 하는 방법에 대해 조사해보시면 좋겠습니다.\n",
        "\n",
        "- 더 알아보기\n",
        "    - Sub-sampling\n",
        "    - Negative-sampling"
      ]
    },
    {
      "cell_type": "markdown",
      "metadata": {
        "id": "HL8l6q2fZE6j"
      },
      "source": [
        "결과적으로 Skip-gram 모델을 통해 10000개 단어에 대한 임베딩 벡터를 얻을 수 있습니다.<br/>\n",
        "이렇게 얻은 임베딩 벡터는 문장 간의 관련도 계산, 문서 분류같은 작업에 사용할 수 있습니다."
      ]
    },
    {
      "cell_type": "markdown",
      "metadata": {
        "id": "7jc62ll97Ool"
      },
      "source": [
        "### 5) Word2Vec으로 임베딩한 벡터 시각화"
      ]
    },
    {
      "cell_type": "markdown",
      "metadata": {
        "id": "9x9ysyktWpFk"
      },
      "source": [
        "Word2Vec을 통해 얻은 임베딩 벡터는 **<font color=\"ff6f61\">단어 간의 의미적, 문법적 관계를 잘 나타냅니다.</font>**<br/>\n",
        "이를 대표적으로 잘 보여주는 것이 아래 그림입니다.<br/>\n",
        "\n",
        "1. **`man - woman`** 사이의 관계와 **`king - queen`** 사이의 관계가 매우 유사하게 나타납니다.<br/>\n",
        "생성된 임베딩 벡터가 단어의 **의미적(Semantic) 관계를 잘 표현**하는 것을 확인할 수 있습니다.\n",
        "\n",
        "2. **`walking - walked`** 사이의 관계와 **`swimming - swam`** 사이의 관계가 매우 유사하게 나타납니다.<br/>\n",
        "생성된 임베딩 벡터가 단어의 **문법적(혹은 구조적, Syntactic)인 관계도 잘 표현**하는 것을 확인할 수 있습니다.\n",
        "\n",
        "3. 고유명사에 대해서도 나라 - 수도 와 같은 관계를 잘 나타내고 있는 것을 확인할 수 있습니다."
      ]
    },
    {
      "cell_type": "markdown",
      "metadata": {
        "id": "m7_fd6qHS-Nk"
      },
      "source": [
        "<img src=\"https://miro.medium.com/max/3010/1*OEmWDt4eztOcm5pr2QbxfA.png\"/>"
      ]
    },
    {
      "cell_type": "markdown",
      "metadata": {
        "id": "5qS40lT3MCmg"
      },
      "source": [
        "## 3. gensim 패키지로 word2Vec 실습하기"
      ]
    },
    {
      "cell_type": "markdown",
      "source": [
        "**`gensim`** 은 **`Word2Vec`** 으로 사전 학습된 임베딩 벡터를 쉽게 사용해볼 수 있는 패키지입니다.<br/>\n",
        "gensim을 사용하여 word2vec의 결과가 어떻게 도출되는지 알아보겠습니다."
      ],
      "metadata": {
        "id": "Clu37M3dUjTV"
      }
    },
    {
      "cell_type": "markdown",
      "metadata": {
        "id": "7G4mYALPgvQD"
      },
      "source": [
        "0. **(시작하기 전에) `gensim` 패키지를 최신 버전으로 업그레이드합니다.**\n",
        "\n",
        "    > ❗️ *아래 `--upgrade` 셀을 실행하여 `gensim` 패키지를 업그레이드 한 후,*  \n",
        "    > *메뉴 탭에서 \"런타임 > 런타임 다시 시작\"을 클릭하여 런타임을 재시작 해줍니다.*  \n",
        "    > *이후 아래 `.__version__` 이 있는 셀을 활용하여 업그레이드가 잘 되었는지 확인합니다.*"
      ]
    },
    {
      "cell_type": "code",
      "metadata": {
        "id": "4JCn0DjhoHB2"
      },
      "source": [
        "#코랩에서 gensim 업그레이드 해줘야 함\n",
        "#런타임 초기화 해주기\n",
        "!pip install gensim --upgrade"
      ],
      "execution_count": null,
      "outputs": []
    },
    {
      "cell_type": "code",
      "metadata": {
        "colab": {
          "base_uri": "https://localhost:8080/",
          "height": 36
        },
        "id": "yer4OuxeoVuj",
        "outputId": "dab3f687-9e36-413a-ae5c-d9da0bcc32aa"
      },
      "source": [
        "import gensim\n",
        "\n",
        "gensim.__version__"
      ],
      "execution_count": null,
      "outputs": [
        {
          "output_type": "execute_result",
          "data": {
            "text/plain": [
              "'4.2.0'"
            ],
            "application/vnd.google.colaboratory.intrinsic+json": {
              "type": "string"
            }
          },
          "metadata": {},
          "execution_count": 1
        }
      ]
    },
    {
      "cell_type": "markdown",
      "metadata": {
        "id": "ztbBoq8vNYAt"
      },
      "source": [
        "1. **구글 뉴스 말뭉치로 학습된 `word2vec` 벡터를 다운받습니다.** (시간이 오래 걸립니다.)"
      ]
    },
    {
      "cell_type": "code",
      "metadata": {
        "colab": {
          "base_uri": "https://localhost:8080/"
        },
        "id": "uKMe7PBlpx6A",
        "outputId": "9c5d44a7-2e37-4641-feee-4f37cc011ac6"
      },
      "source": [
        "#5분에서 10분 정도 걸림 #이미 임베딩이 됨\n",
        "import gensim.downloader as api\n",
        "\n",
        "wv = api.load('word2vec-google-news-300') #모델 저장"
      ],
      "execution_count": null,
      "outputs": [
        {
          "output_type": "stream",
          "name": "stdout",
          "text": [
            "[=================================================-] 99.6% 1656.1/1662.8MB downloaded\n"
          ]
        }
      ]
    },
    {
      "cell_type": "markdown",
      "metadata": {
        "id": "ukFb1Elohrod"
      },
      "source": [
        "2. **0 ~ 9 인덱스에 위치한 단어가 무엇인지 확인해봅시다.**"
      ]
    },
    {
      "cell_type": "code",
      "source": [
        "wv.index_to_key"
      ],
      "metadata": {
        "id": "R3YUADbppwPx"
      },
      "execution_count": null,
      "outputs": []
    },
    {
      "cell_type": "code",
      "metadata": {
        "colab": {
          "base_uri": "https://localhost:8080/"
        },
        "id": "GUm6-jEKpH-G",
        "outputId": "705ec329-f4c5-471d-f361-86fbb900b30d"
      },
      "source": [
        "for idx, word in enumerate(wv.index_to_key):\n",
        "    if idx == 10:\n",
        "        break\n",
        "#인덱스/단어총 개수\n",
        "    print(f\"word #{idx}/{len(wv.index_to_key)} is '{word}'\")"
      ],
      "execution_count": null,
      "outputs": [
        {
          "output_type": "stream",
          "name": "stdout",
          "text": [
            "word #0/3000000 is '</s>'\n",
            "word #1/3000000 is 'in'\n",
            "word #2/3000000 is 'for'\n",
            "word #3/3000000 is 'that'\n",
            "word #4/3000000 is 'is'\n",
            "word #5/3000000 is 'on'\n",
            "word #6/3000000 is '##'\n",
            "word #7/3000000 is 'The'\n",
            "word #8/3000000 is 'with'\n",
            "word #9/3000000 is 'said'\n"
          ]
        }
      ]
    },
    {
      "cell_type": "markdown",
      "metadata": {
        "id": "A0dKXTtrh2bJ"
      },
      "source": [
        "3. **임베딩 벡터의 차원과 값을 눈으로 확인해봅시다.**\n",
        "\n",
        "    **\"king\"** 이라는 단어의 벡터의 shape을 출력하여 임베딩 벡터의 차원을 확인해봅시다.<br/>\n",
        "결과를 통해 **`Word2Vec`** 을 통해 학습된 임베딩 벡터는 300차원이며, 벡터의 요소가 원-핫 인코딩과는 다르다는 것을 확인할 수 있습니다."
      ]
    },
    {
      "cell_type": "code",
      "metadata": {
        "id": "rScfq8kFppm8"
      },
      "source": [
        "vec_king = wv['king'] #단어의 벡터\n",
        "\n",
        "print(f\"임베딩 벡터의 차원 수 : {vec_king.shape}\\n\")\n",
        "print(f\"'king' 의 임베딩 벡터 \\n\\n {vec_king}\")"
      ],
      "execution_count": null,
      "outputs": []
    },
    {
      "cell_type": "markdown",
      "metadata": {
        "id": "_B_-rGbVTBOi"
      },
      "source": [
        "4. **말뭉치에 등장하지 않는 단어의 임베딩 벡터를 확인해봅시다.**\n",
        "\n",
        "    **cameroon** 이라는 단어는 사전에 지정해 준 단어 집합(Vocabulary, **`vocab`**)에 등장하지 않는 단어(Unknown token)인데요.<br/>\n",
        "이 단어를 'King' 같이 임베딩 벡터화 해보면 **`KeyError`** 가 발생합니다.<br/>\n",
        "이처럼 **`Word2Vec`**은 단어 집합에 지정하지 않은 단어는 벡터화 할 수 없다는 단점이 있습니다."
      ]
    },
    {
      "cell_type": "code",
      "source": [
        "#OOV 문제\n",
        "import gensim\n",
        "import gensim.downloader as api\n",
        "\n",
        "wv = api.load('word2vec-google-news-300')\n",
        "\n",
        "sample_kw = 'softmax'\n",
        "vec_sample_kw = wv[sample_kw]\n",
        "\n",
        "print(vec_sample_kw)"
      ],
      "metadata": {
        "id": "KYiVfpYgxGd9",
        "outputId": "807c468b-727b-4f0b-f305-97d9829b28ac",
        "colab": {
          "base_uri": "https://localhost:8080/",
          "height": 404
        }
      },
      "execution_count": null,
      "outputs": [
        {
          "output_type": "error",
          "ename": "KeyError",
          "evalue": "ignored",
          "traceback": [
            "\u001b[0;31m---------------------------------------------------------------------------\u001b[0m",
            "\u001b[0;31mKeyError\u001b[0m                                  Traceback (most recent call last)",
            "\u001b[0;32m<ipython-input-73-11b80146e601>\u001b[0m in \u001b[0;36m<module>\u001b[0;34m\u001b[0m\n\u001b[1;32m      5\u001b[0m \u001b[0;34m\u001b[0m\u001b[0m\n\u001b[1;32m      6\u001b[0m \u001b[0msample_kw\u001b[0m \u001b[0;34m=\u001b[0m \u001b[0;34m'softmax'\u001b[0m\u001b[0;34m\u001b[0m\u001b[0;34m\u001b[0m\u001b[0m\n\u001b[0;32m----> 7\u001b[0;31m \u001b[0mvec_sample_kw\u001b[0m \u001b[0;34m=\u001b[0m \u001b[0mwv\u001b[0m\u001b[0;34m[\u001b[0m\u001b[0msample_kw\u001b[0m\u001b[0;34m]\u001b[0m\u001b[0;34m\u001b[0m\u001b[0;34m\u001b[0m\u001b[0m\n\u001b[0m\u001b[1;32m      8\u001b[0m \u001b[0;34m\u001b[0m\u001b[0m\n\u001b[1;32m      9\u001b[0m \u001b[0mprint\u001b[0m\u001b[0;34m(\u001b[0m\u001b[0mvec_sample_kw\u001b[0m\u001b[0;34m)\u001b[0m\u001b[0;34m\u001b[0m\u001b[0;34m\u001b[0m\u001b[0m\n",
            "\u001b[0;32m/usr/local/lib/python3.7/dist-packages/gensim/models/keyedvectors.py\u001b[0m in \u001b[0;36m__getitem__\u001b[0;34m(self, key_or_keys)\u001b[0m\n\u001b[1;32m    402\u001b[0m         \"\"\"\n\u001b[1;32m    403\u001b[0m         \u001b[0;32mif\u001b[0m \u001b[0misinstance\u001b[0m\u001b[0;34m(\u001b[0m\u001b[0mkey_or_keys\u001b[0m\u001b[0;34m,\u001b[0m \u001b[0m_KEY_TYPES\u001b[0m\u001b[0;34m)\u001b[0m\u001b[0;34m:\u001b[0m\u001b[0;34m\u001b[0m\u001b[0;34m\u001b[0m\u001b[0m\n\u001b[0;32m--> 404\u001b[0;31m             \u001b[0;32mreturn\u001b[0m \u001b[0mself\u001b[0m\u001b[0;34m.\u001b[0m\u001b[0mget_vector\u001b[0m\u001b[0;34m(\u001b[0m\u001b[0mkey_or_keys\u001b[0m\u001b[0;34m)\u001b[0m\u001b[0;34m\u001b[0m\u001b[0;34m\u001b[0m\u001b[0m\n\u001b[0m\u001b[1;32m    405\u001b[0m \u001b[0;34m\u001b[0m\u001b[0m\n\u001b[1;32m    406\u001b[0m         \u001b[0;32mreturn\u001b[0m \u001b[0mvstack\u001b[0m\u001b[0;34m(\u001b[0m\u001b[0;34m[\u001b[0m\u001b[0mself\u001b[0m\u001b[0;34m.\u001b[0m\u001b[0mget_vector\u001b[0m\u001b[0;34m(\u001b[0m\u001b[0mkey\u001b[0m\u001b[0;34m)\u001b[0m \u001b[0;32mfor\u001b[0m \u001b[0mkey\u001b[0m \u001b[0;32min\u001b[0m \u001b[0mkey_or_keys\u001b[0m\u001b[0;34m]\u001b[0m\u001b[0;34m)\u001b[0m\u001b[0;34m\u001b[0m\u001b[0;34m\u001b[0m\u001b[0m\n",
            "\u001b[0;32m/usr/local/lib/python3.7/dist-packages/gensim/models/keyedvectors.py\u001b[0m in \u001b[0;36mget_vector\u001b[0;34m(self, key, norm)\u001b[0m\n\u001b[1;32m    445\u001b[0m \u001b[0;34m\u001b[0m\u001b[0m\n\u001b[1;32m    446\u001b[0m         \"\"\"\n\u001b[0;32m--> 447\u001b[0;31m         \u001b[0mindex\u001b[0m \u001b[0;34m=\u001b[0m \u001b[0mself\u001b[0m\u001b[0;34m.\u001b[0m\u001b[0mget_index\u001b[0m\u001b[0;34m(\u001b[0m\u001b[0mkey\u001b[0m\u001b[0;34m)\u001b[0m\u001b[0;34m\u001b[0m\u001b[0;34m\u001b[0m\u001b[0m\n\u001b[0m\u001b[1;32m    448\u001b[0m         \u001b[0;32mif\u001b[0m \u001b[0mnorm\u001b[0m\u001b[0;34m:\u001b[0m\u001b[0;34m\u001b[0m\u001b[0;34m\u001b[0m\u001b[0m\n\u001b[1;32m    449\u001b[0m             \u001b[0mself\u001b[0m\u001b[0;34m.\u001b[0m\u001b[0mfill_norms\u001b[0m\u001b[0;34m(\u001b[0m\u001b[0;34m)\u001b[0m\u001b[0;34m\u001b[0m\u001b[0;34m\u001b[0m\u001b[0m\n",
            "\u001b[0;32m/usr/local/lib/python3.7/dist-packages/gensim/models/keyedvectors.py\u001b[0m in \u001b[0;36mget_index\u001b[0;34m(self, key, default)\u001b[0m\n\u001b[1;32m    419\u001b[0m             \u001b[0;32mreturn\u001b[0m \u001b[0mdefault\u001b[0m\u001b[0;34m\u001b[0m\u001b[0;34m\u001b[0m\u001b[0m\n\u001b[1;32m    420\u001b[0m         \u001b[0;32melse\u001b[0m\u001b[0;34m:\u001b[0m\u001b[0;34m\u001b[0m\u001b[0;34m\u001b[0m\u001b[0m\n\u001b[0;32m--> 421\u001b[0;31m             \u001b[0;32mraise\u001b[0m \u001b[0mKeyError\u001b[0m\u001b[0;34m(\u001b[0m\u001b[0;34mf\"Key '{key}' not present\"\u001b[0m\u001b[0;34m)\u001b[0m\u001b[0;34m\u001b[0m\u001b[0;34m\u001b[0m\u001b[0m\n\u001b[0m\u001b[1;32m    422\u001b[0m \u001b[0;34m\u001b[0m\u001b[0m\n\u001b[1;32m    423\u001b[0m     \u001b[0;32mdef\u001b[0m \u001b[0mget_vector\u001b[0m\u001b[0;34m(\u001b[0m\u001b[0mself\u001b[0m\u001b[0;34m,\u001b[0m \u001b[0mkey\u001b[0m\u001b[0;34m,\u001b[0m \u001b[0mnorm\u001b[0m\u001b[0;34m=\u001b[0m\u001b[0;32mFalse\u001b[0m\u001b[0;34m)\u001b[0m\u001b[0;34m:\u001b[0m\u001b[0;34m\u001b[0m\u001b[0;34m\u001b[0m\u001b[0m\n",
            "\u001b[0;31mKeyError\u001b[0m: \"Key 'softmax' not present\""
          ]
        }
      ]
    },
    {
      "cell_type": "code",
      "metadata": {
        "id": "UrUQ_W_Nrdsm",
        "colab": {
          "base_uri": "https://localhost:8080/"
        },
        "outputId": "5a43d217-e021-4a57-a563-8d55aba6073c"
      },
      "source": [
        "#단점 oov문제\n",
        "unk = 'cameroon'\n",
        "\n",
        "try:\n",
        "    vec_unk = wv[unk]\n",
        "except KeyError:\n",
        "    print(f\"\"\"단어 \"{unk}\"은 해당 모델에는 등장하지 않는 단어입니다.\"\"\")"
      ],
      "execution_count": null,
      "outputs": [
        {
          "output_type": "stream",
          "name": "stdout",
          "text": [
            "단어 \"cameroon\"은 해당 모델에는 등장하지 않는 단어입니다.\n"
          ]
        }
      ]
    },
    {
      "cell_type": "markdown",
      "metadata": {
        "id": "VCgafDP9ShJT"
      },
      "source": [
        "5. **단어 간 유사도를 파악해봅시다.**\n",
        "\n",
        "    **`gensim`** 패키지가 제공하는 **`.similarity`** 를 활용하면 단어 간 유사도를 파악할 수 있습니다.<br/>\n",
        "원-핫 인코딩과 다르게 임베딩 벡터는 단어 간 유사도를 구했을 때 0 아닌 값이 나오게 됩니다.<br/>\n",
        "아래는 **'car'** 와 몇몇 단어의 유사도를 비교한 결과입니다."
      ]
    },
    {
      "cell_type": "code",
      "metadata": {
        "id": "rMfi_zX_rhba",
        "colab": {
          "base_uri": "https://localhost:8080/"
        },
        "outputId": "ee099e36-5fd0-46c8-d8b0-d30b2f7111fd"
      },
      "source": [
        "pairs = [\n",
        "    ('car', 'minivan'),   \n",
        "    ('car', 'bicycle'),  \n",
        "    ('car', 'airplane'),\n",
        "    ('car', 'cereal'),    \n",
        "    ('car', 'democracy')\n",
        "]\n",
        "\n",
        "for w1, w2 in pairs:\n",
        "    print(f'{w1} ======= {w2}\\t  {wv.similarity(w1, w2):.2f}')"
      ],
      "execution_count": null,
      "outputs": [
        {
          "output_type": "stream",
          "name": "stdout",
          "text": [
            "car ======= minivan\t  0.69\n",
            "car ======= bicycle\t  0.54\n",
            "car ======= airplane\t  0.42\n",
            "car ======= cereal\t  0.14\n",
            "car ======= democracy\t  0.08\n"
          ]
        }
      ]
    },
    {
      "cell_type": "code",
      "source": [
        "pairs = [\n",
        "    ('car', 'minivan'),   \n",
        "    ('car', 'bicycle'),  \n",
        "    ('car', 'airplane'),\n",
        "    ('car', 'cereal'),    \n",
        "    ('car', 'democracy')\n",
        "]\n",
        "#.2f(float) 자리수\n",
        "for w1, w2 in pairs:\n",
        "    print(f'{w1} ======= {w2} {wv.similarity(w1, w2): .2f}')"
      ],
      "metadata": {
        "colab": {
          "base_uri": "https://localhost:8080/"
        },
        "id": "sLo_zFYSrVbC",
        "outputId": "416b7afd-498a-45f3-e5d1-d0917c07adfd"
      },
      "execution_count": null,
      "outputs": [
        {
          "output_type": "stream",
          "name": "stdout",
          "text": [
            "car ======= minivan  0.69\n",
            "car ======= bicycle  0.54\n",
            "car ======= airplane  0.42\n",
            "car ======= cereal  0.14\n",
            "car ======= democracy  0.08\n"
          ]
        }
      ]
    },
    {
      "cell_type": "markdown",
      "metadata": {
        "id": "av7l0N0bf0VO"
      },
      "source": [
        "**`.most_similar`** 메서드를 사용하여\n",
        "\n",
        "**`'car'`** 벡터에 **`'minivan'`** 벡터를 더한 벡터와 가장 유사한 5개의 단어를 뽑아보겠습니다."
      ]
    },
    {
      "cell_type": "code",
      "metadata": {
        "id": "rv-6Q8_8seT6",
        "colab": {
          "base_uri": "https://localhost:8080/"
        },
        "outputId": "0d49f14c-a6f5-4408-90a3-81120e0866ec"
      },
      "source": [
        "for i, (word, similarity) in enumerate(wv.most_similar(positive=['car', 'minivan'], topn=5)):\n",
        "    print(f\"Top {i+1} : {word}, {similarity}\")"
      ],
      "execution_count": null,
      "outputs": [
        {
          "output_type": "stream",
          "name": "stdout",
          "text": [
            "Top 1 : SUV, 0.8532192707061768\n",
            "Top 2 : vehicle, 0.8175783753395081\n",
            "Top 3 : pickup_truck, 0.7763688564300537\n",
            "Top 4 : Jeep, 0.7567334175109863\n",
            "Top 5 : Ford_Explorer, 0.7565720081329346\n"
          ]
        }
      ]
    },
    {
      "cell_type": "markdown",
      "metadata": {
        "id": "8bC4WIEjJcrr"
      },
      "source": [
        "시각화에서 확인한 것처럼 **`king`** 벡터에 **`women`** 벡터를 더한 뒤 **`men`** 벡터를 빼준 벡터와 가장 유사한 벡터로 **`queen`** 이 나오는 것과<br/>\n",
        "**`walking`** 벡터에 **`swam`** 벡터를 더한 뒤 **`walked`** 벡터를 빼준 벡터와 가장 유사한 벡터로 **`swimming`** 이 나오는 것을 확인할 수 있습니다."
      ]
    },
    {
      "cell_type": "code",
      "metadata": {
        "colab": {
          "base_uri": "https://localhost:8080/"
        },
        "id": "biCWjT3HJBKu",
        "outputId": "b4a387d2-237a-4492-c2ff-d3623251c3aa"
      },
      "source": [
        "print(wv.most_similar(positive=['king', 'women'], negative=['men'], topn=1))\n",
        "print(wv.most_similar(positive=['walking', 'swam'], negative=['walked'], topn=1))"
      ],
      "execution_count": null,
      "outputs": [
        {
          "output_type": "stream",
          "name": "stdout",
          "text": [
            "[('queen', 0.6525818109512329)]\n",
            "[('swimming', 0.7448815703392029)]\n"
          ]
        }
      ]
    },
    {
      "cell_type": "markdown",
      "metadata": {
        "id": "_H9OMnZMgrCZ"
      },
      "source": [
        "`.doesnt_match` 메서드를 사용하여\n",
        "\n",
        "['fire', 'water', 'land', 'sea', 'air', 'car'] 중에서 가장 관계 없는 단어를 뽑아봅시다."
      ]
    },
    {
      "cell_type": "code",
      "metadata": {
        "colab": {
          "base_uri": "https://localhost:8080/"
        },
        "id": "lOPi3pzAzhYd",
        "outputId": "ce944ecd-c50f-4476-9837-debc6d540730"
      },
      "source": [
        "print(wv.doesnt_match(['fire', 'water', 'land', 'sea', 'air', 'car']))"
      ],
      "execution_count": null,
      "outputs": [
        {
          "output_type": "stream",
          "name": "stdout",
          "text": [
            "car\n"
          ]
        }
      ]
    },
    {
      "cell_type": "markdown",
      "metadata": {
        "id": "9s9kOTqFFL_P"
      },
      "source": [
        "## 4. 임베딩 벡터를 사용하여 문장 분류 수행하기"
      ]
    },
    {
      "cell_type": "markdown",
      "metadata": {
        "id": "TKT0gcn-ewPr"
      },
      "source": [
        "이미 학습된 임베딩 벡터를 사용하여 문장 분류를 수행하는 코드에 대해 알아보겠습니다.<br/>\n",
        "아래 코드에서는 **문서에 있는 단어 벡터의 평균을 해당 문서의 벡터로 사용**하여 분류 문제를 수행합니다."
      ]
    },
    {
      "cell_type": "markdown",
      "source": [
        "예를 들어, \"I am a student\"라는 문장을 구성하는 단어의 임베딩 벡터가 아래와 같다고 해보겠습니다.\n",
        "> $\\text{I} = [0.0012, 0.0345, ... , -0.0048, -0.0425]$<br/>\n",
        "> $\\text{am} = [0.0232, -0.0141, ... , -0.0542, 0.0454]$<br/>\n",
        "> $\\text{a} = [0.0022, 0.0905, ... , -0.0241, 0.0028]$<br/>\n",
        "> $\\text{student} = [-0.0110, 0.0492, ... , 0.0008, -0.0420]$\n",
        "\n",
        "이 때, \"I  am a student\"라는 문장을 분류하기 위해서 최종적으로 아래 벡터를 사용합니다.\n",
        "\n",
        "> $[0.0039, 0.0400, ... , -0.0206, -0.0091]$\n",
        "\n",
        "이게 되나 싶을 정도로 간단하지만, 간단한 문서 분류 문제에서는 꽤 좋은 성능을 보이기 때문에 Baseline 모델로 많이 사용됩니다."
      ],
      "metadata": {
        "id": "BeuBaYmnGFs3"
      }
    },
    {
      "cell_type": "code",
      "source": [
        "#임베딩한 값을 다 더해서 평균을 내줌"
      ],
      "metadata": {
        "id": "eFiRhbFdkZzH"
      },
      "execution_count": null,
      "outputs": []
    },
    {
      "cell_type": "markdown",
      "metadata": {
        "id": "SwkD9OKpCIPM"
      },
      "source": [
        "1. **필요한 모듈을 `import` 해줍니다.**"
      ]
    },
    {
      "cell_type": "code",
      "metadata": {
        "id": "SBMk2IFuTHdT"
      },
      "source": [
        "import numpy as np\n",
        "import tensorflow as tf\n",
        "\n",
        "from tensorflow.keras.preprocessing.sequence import pad_sequences\n",
        "from tensorflow.keras.models import Sequential\n",
        "from tensorflow.keras.layers import Dense, Embedding, GlobalAveragePooling1D\n",
        "from tensorflow.keras.preprocessing.text import Tokenizer\n",
        "from tensorflow.keras.datasets import imdb"
      ],
      "execution_count": null,
      "outputs": []
    },
    {
      "cell_type": "markdown",
      "metadata": {
        "id": "dMI6EXJNb9JI"
      },
      "source": [
        "2. **Seed를 정해줍니다.**"
      ]
    },
    {
      "cell_type": "code",
      "metadata": {
        "id": "UN8nhpR7Z8rL"
      },
      "source": [
        "tf.random.set_seed(42)"
      ],
      "execution_count": null,
      "outputs": []
    },
    {
      "cell_type": "markdown",
      "metadata": {
        "id": "4f1SXVV_cAl4"
      },
      "source": [
        "3. **데이터셋을 split 해줍니다.**"
      ]
    },
    {
      "cell_type": "code",
      "metadata": {
        "id": "UVe0c6t3TR2e"
      },
      "source": [
        "#(num_words=20000가장 빈도가 높은단어\n",
        "(X_train, y_train), (X_test, y_test) = imdb.load_data(num_words=20000)"
      ],
      "execution_count": null,
      "outputs": []
    },
    {
      "cell_type": "code",
      "metadata": {
        "colab": {
          "base_uri": "https://localhost:8080/"
        },
        "id": "igzfBd5IM8Yw",
        "outputId": "01adf6b2-8f8d-47a3-f6e9-8dea09e2aea5"
      },
      "source": [
        "print(f\"Train set shape : {X_train.shape}\")\n",
        "print(f\"Test set shape : {X_test.shape}\")"
      ],
      "execution_count": null,
      "outputs": [
        {
          "output_type": "stream",
          "name": "stdout",
          "text": [
            "Train set shape : (25000,)\n",
            "Test set shape : (25000,)\n"
          ]
        }
      ]
    },
    {
      "cell_type": "markdown",
      "metadata": {
        "id": "1X19rJTgokBe"
      },
      "source": [
        "4. **데이터셋이 어떻게 생겼는지 눈으로 확인해봅니다.**\n",
        "\n",
        "    단어의 index 가 저장된 list 가 출력됨을 확인할 수 있습니다."
      ]
    },
    {
      "cell_type": "code",
      "metadata": {
        "colab": {
          "base_uri": "https://localhost:8080/"
        },
        "id": "WPCn_egdcG8-",
        "outputId": "2f6fa29d-dd9c-46b8-bd7c-98c85f71d931"
      },
      "source": [
        "#인덱스로 지정됨\n",
        "#단어의 인덱스로 구현\n",
        "print(X_train[0])\n",
        "print(type(X_train[0]))"
      ],
      "execution_count": null,
      "outputs": [
        {
          "output_type": "stream",
          "name": "stdout",
          "text": [
            "[1, 14, 22, 16, 43, 530, 973, 1622, 1385, 65, 458, 4468, 66, 3941, 4, 173, 36, 256, 5, 25, 100, 43, 838, 112, 50, 670, 2, 9, 35, 480, 284, 5, 150, 4, 172, 112, 167, 2, 336, 385, 39, 4, 172, 4536, 1111, 17, 546, 38, 13, 447, 4, 192, 50, 16, 6, 147, 2025, 19, 14, 22, 4, 1920, 4613, 469, 4, 22, 71, 87, 12, 16, 43, 530, 38, 76, 15, 13, 1247, 4, 22, 17, 515, 17, 12, 16, 626, 18, 19193, 5, 62, 386, 12, 8, 316, 8, 106, 5, 4, 2223, 5244, 16, 480, 66, 3785, 33, 4, 130, 12, 16, 38, 619, 5, 25, 124, 51, 36, 135, 48, 25, 1415, 33, 6, 22, 12, 215, 28, 77, 52, 5, 14, 407, 16, 82, 10311, 8, 4, 107, 117, 5952, 15, 256, 4, 2, 7, 3766, 5, 723, 36, 71, 43, 530, 476, 26, 400, 317, 46, 7, 4, 12118, 1029, 13, 104, 88, 4, 381, 15, 297, 98, 32, 2071, 56, 26, 141, 6, 194, 7486, 18, 4, 226, 22, 21, 134, 476, 26, 480, 5, 144, 30, 5535, 18, 51, 36, 28, 224, 92, 25, 104, 4, 226, 65, 16, 38, 1334, 88, 12, 16, 283, 5, 16, 4472, 113, 103, 32, 15, 16, 5345, 19, 178, 32]\n",
            "<class 'list'>\n"
          ]
        }
      ]
    },
    {
      "cell_type": "markdown",
      "metadata": {
        "id": "92sDETlvcEN1"
      },
      "source": [
        "5. **인덱스로 된 데이터를 텍스트로 변경하는 함수를 구현합니다.**<br/>\n",
        "\n",
        "    첫 번째 데이터를 텍스트로 변경하고 확인해봅시다."
      ]
    },
    {
      "cell_type": "code",
      "metadata": {
        "id": "IX1a-PW7Cwux"
      },
      "source": [
        "word_index = imdb.get_word_index()\n",
        "reverse_word_index = dict([(value, key) for (key, value) in word_index.items()])\n",
        "\n",
        "def decode_review(text):\n",
        "    \"\"\"\n",
        "    word_index 를 받아서 text 를 sequence 형태로 반환하는 함수입니다.\n",
        "\n",
        "    Args:\n",
        "        text: 텍스트 시퀀스입니다 -> str\n",
        "    \"\"\"\n",
        "    return ' '.join([reverse_word_index.get(i, '?') for i in text])"
      ],
      "execution_count": null,
      "outputs": []
    },
    {
      "cell_type": "code",
      "source": [
        "def decode_review(text):\n",
        "    return ' '.join([reverse_word_index.get(i, '?') for i in text])"
      ],
      "metadata": {
        "id": "YX4_ICXWtncq"
      },
      "execution_count": null,
      "outputs": []
    },
    {
      "cell_type": "code",
      "metadata": {
        "colab": {
          "base_uri": "https://localhost:8080/",
          "height": 129
        },
        "id": "m0U0p9FpCsuE",
        "outputId": "993ad848-8328-463e-fda4-c7d91d6d9c14"
      },
      "source": [
        "decode_review(X_train[0])"
      ],
      "execution_count": null,
      "outputs": [
        {
          "output_type": "execute_result",
          "data": {
            "text/plain": [
              "\"the as you with out themselves powerful lets loves their becomes reaching had journalist of lot from anyone to have after out atmosphere never more room and it so heart shows to years of every never going and help moments or of every chest visual movie except her was several of enough more with is now current film as you of mine potentially unfortunately of you than him that with out themselves her get for was camp of you movie sometimes movie that with scary but pratfalls to story wonderful that in seeing in character to of 70s musicians with heart had shadows they of here that with her serious to have does when from why what have critics they is you that isn't one will very to as itself with other tricky in of seen over landed for anyone of and br show's to whether from than out themselves history he name half some br of 'n odd was two most of mean for 1 any an boat she he should is thought frog but of script you not while history he heart to real at barrel but when from one bit then have two of script their with her nobody most that with wasn't to with armed acting watch an for with heartfelt film want an\""
            ],
            "application/vnd.google.colaboratory.intrinsic+json": {
              "type": "string"
            }
          },
          "metadata": {},
          "execution_count": 18
        }
      ]
    },
    {
      "cell_type": "markdown",
      "metadata": {
        "id": "gue7auO3M51r"
      },
      "source": [
        "6. **`keras` 의 `tokenizer` 에 텍스트를 학습시킵니다.**"
      ]
    },
    {
      "cell_type": "code",
      "metadata": {
        "id": "yRL8PYvOUukF"
      },
      "source": [
        "sentences = [decode_review(idx) for idx in X_train]\n",
        "# fit_on_texts 딕셔너리 형태로 만들어줌 \n",
        "tokenizer = Tokenizer()\n",
        "tokenizer.fit_on_texts(sentences)"
      ],
      "execution_count": null,
      "outputs": []
    },
    {
      "cell_type": "code",
      "metadata": {
        "colab": {
          "base_uri": "https://localhost:8080/"
        },
        "id": "T7kx4GlyUtaO",
        "outputId": "c0910439-f983-4271-9464-f81d28835d93"
      },
      "source": [
        "# 단어 집합(vocab)의 크기를 입력합니다. 패딩(<pad>)을 고려하여 tokenizer의 단어 수에서 +1 해줍니다.\n",
        "vocab_size = len(tokenizer.word_index) + 1\n",
        "print(vocab_size)"
      ],
      "execution_count": null,
      "outputs": [
        {
          "output_type": "stream",
          "name": "stdout",
          "text": [
            "19999\n"
          ]
        }
      ]
    },
    {
      "cell_type": "markdown",
      "metadata": {
        "id": "A5NEgB6cNr33"
      },
      "source": [
        "7. **`pad_sequence` 를 통해 패딩 처리해줍니다.**<br/>\n",
        "\n",
        "> ❓ *`pad_squence`가 무엇이고 처리해주는 이유는 무엇일까요?*  \n",
        "> *구글링을 통해 스스로 알아보도록 합니다.*"
      ]
    },
    {
      "cell_type": "code",
      "source": [
        "#pad_squence : 길이가 같지 않고 적거나 많을 때 일정한 길이로 맞춰 줄 때 사용함"
      ],
      "metadata": {
        "id": "ys1zxv84vgWd"
      },
      "execution_count": null,
      "outputs": []
    },
    {
      "cell_type": "code",
      "metadata": {
        "colab": {
          "base_uri": "https://localhost:8080/"
        },
        "id": "CPOak5-AWyyG",
        "outputId": "1fc1370c-9269-4189-c339-5d4c0f5e206f"
      },
      "source": [
        "X_encoded = tokenizer.texts_to_sequences(sentences)\n",
        "\n",
        "max_len = max(len(sent) for sent in X_encoded)\n",
        "print(max_len)"
      ],
      "execution_count": null,
      "outputs": [
        {
          "output_type": "stream",
          "name": "stdout",
          "text": [
            "2494\n"
          ]
        }
      ]
    },
    {
      "cell_type": "code",
      "metadata": {
        "colab": {
          "base_uri": "https://localhost:8080/"
        },
        "id": "czw6gazFDbNT",
        "outputId": "9f3f1233-596c-41ec-efc0-77048fc96b3d"
      },
      "source": [
        "print(f'학습 데이터에 있는 문서의 평균 토큰 수: {np.mean([len(sent) for sent in X_train], dtype=int)}')"
      ],
      "execution_count": null,
      "outputs": [
        {
          "output_type": "stream",
          "name": "stdout",
          "text": [
            "학습 데이터에 있는 문서의 평균 토큰 수: 238\n"
          ]
        }
      ]
    },
    {
      "cell_type": "markdown",
      "source": [
        "**pad_sequences**의 파라미터인 **`maxlen`** 을 평균보다 조금 더 긴 400 으로 설정합니다."
      ],
      "metadata": {
        "id": "Oam-fVkPXueC"
      }
    },
    {
      "cell_type": "code",
      "metadata": {
        "id": "iJOQ0t6aZUzS"
      },
      "source": [
        "#하나의 길이로 통일시켜야 함 #긴 것은 짤리고 부족한 것은 0으로 채워짐\n",
        "maxlen_pad = 400\n",
        "\n",
        "X_train=pad_sequences(X_encoded, maxlen=maxlen_pad, padding='post')\n",
        "y_train=np.array(y_train)"
      ],
      "execution_count": null,
      "outputs": []
    },
    {
      "cell_type": "markdown",
      "metadata": {
        "id": "S7DKRDSgPHVU"
      },
      "source": [
        "8. **`word2vec`의 임베딩 가중치 행렬을 만들어줍니다.**\n",
        "\n",
        "    미리 학습된 모든 단어(300만개)에 대해 만들 경우 너무 행렬이 커지므로<br/>\n",
        "vocab에 속하는 단어에 대해서만 만들어지도록 합니다. "
      ]
    },
    {
      "cell_type": "code",
      "metadata": {
        "colab": {
          "base_uri": "https://localhost:8080/"
        },
        "id": "gPNwRShBfyHu",
        "outputId": "a57756c9-dc01-46ca-bbf5-0ac521dc655a"
      },
      "source": [
        "#가중치 행렬을 만듦\n",
        "embedding_matrix = np.zeros((vocab_size, 300))\n",
        "\n",
        "print(np.shape(embedding_matrix))"
      ],
      "execution_count": null,
      "outputs": [
        {
          "output_type": "stream",
          "name": "stdout",
          "text": [
            "(19999, 300)\n"
          ]
        }
      ]
    },
    {
      "cell_type": "code",
      "metadata": {
        "id": "wxrdxUdQLbtj"
      },
      "source": [
        "def get_vector(word):\n",
        "    \"\"\"\n",
        "    입력 단어가 vocab 에 있는 단어일 경우 임베딩 벡터를 반환\n",
        "    \n",
        "    Args:\n",
        "        word: 입력 단어 -> str\n",
        "    \"\"\"\n",
        "    if word in wv:\n",
        "        return wv[word]\n",
        "    else:\n",
        "        return None"
      ],
      "execution_count": null,
      "outputs": []
    },
    {
      "cell_type": "code",
      "source": [
        "for word, i in tokenizer.word_index.items():\n",
        "    temp = get_vector(word)\n",
        "    if temp is not None:\n",
        "        embedding_matrix[i] = temp"
      ],
      "metadata": {
        "id": "LWZRIsvoYm9S"
      },
      "execution_count": null,
      "outputs": []
    },
    {
      "cell_type": "markdown",
      "metadata": {
        "id": "Qjf_zHveP-zU"
      },
      "source": [
        "9. **신경망을 구성하기 위한 keras 모듈을 불러온 후 학습을 수행합니다.**"
      ]
    },
    {
      "cell_type": "code",
      "metadata": {
        "id": "6iBpvYWiLdIb"
      },
      "source": [
        "from tensorflow.keras.models import Sequential\n",
        "from tensorflow.keras.layers import Dense, Embedding, Flatten"
      ],
      "execution_count": null,
      "outputs": []
    },
    {
      "cell_type": "markdown",
      "metadata": {
        "id": "HNsQBetwW74-"
      },
      "source": [
        "> ❗️ *아래 코드에서 `GlobalAveragePooling1D` 층은 처음 보실텐데요.*  \n",
        "> *일단은 입력되는 행렬의 평균을 구하는 층, 즉 입력되는 단어 벡터의 평균을 구하는 층으로 알아두시면 되겠습니다.*"
      ]
    },
    {
      "cell_type": "code",
      "metadata": {
        "id": "vMyx6uQLLfyp"
      },
      "source": [
        "model = Sequential()\n",
        "model.add(Embedding(vocab_size, 300, weights=[embedding_matrix], input_length=maxlen_pad, trainable=False))\n",
        "model.add(GlobalAveragePooling1D()) # 입력되는 단어 벡터의 평균을 구하는 함수입니다.\n",
        "model.add(Dense(1, activation='sigmoid'))"
      ],
      "execution_count": null,
      "outputs": []
    },
    {
      "cell_type": "code",
      "metadata": {
        "colab": {
          "base_uri": "https://localhost:8080/"
        },
        "id": "9sVsQCr4LldD",
        "outputId": "d1340782-ae3f-4849-b3b3-f16035bda71c"
      },
      "source": [
        "model.compile(loss='binary_crossentropy', optimizer='adam', metrics=['acc'])\n",
        "model.fit(X_train, y_train, batch_size=64, epochs=20, validation_split=0.2)"
      ],
      "execution_count": null,
      "outputs": [
        {
          "output_type": "stream",
          "name": "stdout",
          "text": [
            "Epoch 1/20\n",
            "313/313 [==============================] - 9s 25ms/step - loss: 0.6924 - acc: 0.5268 - val_loss: 0.6907 - val_acc: 0.5998\n",
            "Epoch 2/20\n",
            "313/313 [==============================] - 8s 25ms/step - loss: 0.6901 - acc: 0.5767 - val_loss: 0.6882 - val_acc: 0.5972\n",
            "Epoch 3/20\n",
            "313/313 [==============================] - 9s 28ms/step - loss: 0.6880 - acc: 0.5899 - val_loss: 0.6859 - val_acc: 0.6006\n",
            "Epoch 4/20\n",
            "313/313 [==============================] - 8s 26ms/step - loss: 0.6861 - acc: 0.5918 - val_loss: 0.6837 - val_acc: 0.5928\n",
            "Epoch 5/20\n",
            "313/313 [==============================] - 8s 26ms/step - loss: 0.6845 - acc: 0.5949 - val_loss: 0.6824 - val_acc: 0.5970\n",
            "Epoch 6/20\n",
            "313/313 [==============================] - 8s 25ms/step - loss: 0.6827 - acc: 0.5957 - val_loss: 0.6800 - val_acc: 0.5946\n",
            "Epoch 7/20\n",
            "313/313 [==============================] - 8s 26ms/step - loss: 0.6813 - acc: 0.6028 - val_loss: 0.6787 - val_acc: 0.6112\n",
            "Epoch 8/20\n",
            "313/313 [==============================] - 8s 25ms/step - loss: 0.6798 - acc: 0.6058 - val_loss: 0.6774 - val_acc: 0.6092\n",
            "Epoch 9/20\n",
            "313/313 [==============================] - 8s 25ms/step - loss: 0.6784 - acc: 0.6048 - val_loss: 0.6755 - val_acc: 0.6150\n",
            "Epoch 10/20\n",
            "313/313 [==============================] - 9s 27ms/step - loss: 0.6772 - acc: 0.6078 - val_loss: 0.6742 - val_acc: 0.6168\n",
            "Epoch 11/20\n",
            "313/313 [==============================] - 8s 25ms/step - loss: 0.6759 - acc: 0.6100 - val_loss: 0.6730 - val_acc: 0.6172\n",
            "Epoch 12/20\n",
            "313/313 [==============================] - 9s 27ms/step - loss: 0.6748 - acc: 0.6116 - val_loss: 0.6716 - val_acc: 0.6192\n",
            "Epoch 13/20\n",
            "313/313 [==============================] - 9s 28ms/step - loss: 0.6736 - acc: 0.6095 - val_loss: 0.6712 - val_acc: 0.6128\n",
            "Epoch 14/20\n",
            "313/313 [==============================] - 8s 25ms/step - loss: 0.6725 - acc: 0.6135 - val_loss: 0.6690 - val_acc: 0.6246\n",
            "Epoch 15/20\n",
            "313/313 [==============================] - 8s 25ms/step - loss: 0.6712 - acc: 0.6158 - val_loss: 0.6679 - val_acc: 0.6212\n",
            "Epoch 16/20\n",
            "313/313 [==============================] - 8s 25ms/step - loss: 0.6704 - acc: 0.6147 - val_loss: 0.6673 - val_acc: 0.6222\n",
            "Epoch 17/20\n",
            "313/313 [==============================] - 9s 28ms/step - loss: 0.6693 - acc: 0.6191 - val_loss: 0.6670 - val_acc: 0.6196\n",
            "Epoch 18/20\n",
            "313/313 [==============================] - 8s 25ms/step - loss: 0.6684 - acc: 0.6217 - val_loss: 0.6649 - val_acc: 0.6268\n",
            "Epoch 19/20\n",
            "313/313 [==============================] - 8s 25ms/step - loss: 0.6674 - acc: 0.6205 - val_loss: 0.6641 - val_acc: 0.6266\n",
            "Epoch 20/20\n",
            "313/313 [==============================] - 8s 25ms/step - loss: 0.6666 - acc: 0.6248 - val_loss: 0.6633 - val_acc: 0.6274\n"
          ]
        },
        {
          "output_type": "execute_result",
          "data": {
            "text/plain": [
              "<keras.callbacks.History at 0x7f3f24fbc2d0>"
            ]
          },
          "metadata": {},
          "execution_count": 31
        }
      ]
    },
    {
      "cell_type": "code",
      "metadata": {
        "id": "X1Noc-Y5Whwr"
      },
      "source": [
        "test_sentences = [decode_review(idx) for idx in X_test]\n",
        "\n",
        "X_test_encoded = tokenizer.texts_to_sequences(test_sentences)\n",
        "\n",
        "X_test=pad_sequences(X_test_encoded, maxlen=400, padding='post')\n",
        "y_test=np.array(y_test)"
      ],
      "execution_count": null,
      "outputs": []
    },
    {
      "cell_type": "code",
      "metadata": {
        "colab": {
          "base_uri": "https://localhost:8080/"
        },
        "id": "W45xm1PBXbhg",
        "outputId": "6123d335-56ba-4330-a810-63916596e86b"
      },
      "source": [
        "model.evaluate(X_test, y_test)"
      ],
      "execution_count": null,
      "outputs": [
        {
          "output_type": "stream",
          "name": "stdout",
          "text": [
            "782/782 [==============================] - 8s 10ms/step - loss: 0.6680 - acc: 0.6093\n"
          ]
        },
        {
          "output_type": "execute_result",
          "data": {
            "text/plain": [
              "[0.6679654121398926, 0.609279990196228]"
            ]
          },
          "metadata": {},
          "execution_count": 33
        }
      ]
    }
  ]
}